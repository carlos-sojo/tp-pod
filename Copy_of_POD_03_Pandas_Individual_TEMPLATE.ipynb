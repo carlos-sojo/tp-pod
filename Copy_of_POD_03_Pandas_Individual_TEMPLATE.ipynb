{
  "nbformat": 4,
  "nbformat_minor": 0,
  "metadata": {
    "colab": {
      "provenance": []
    },
    "kernelspec": {
      "name": "python3",
      "display_name": "Python 3"
    },
    "language_info": {
      "name": "python"
    }
  },
  "cells": [
    {
      "cell_type": "markdown",
      "source": [
        "*   **Año:** [2024]\n",
        "*   **Alumno/a:** [Carlos Sojo]\n",
        "*   **Legajo:** [95646827]"
      ],
      "metadata": {
        "id": "UwxQU5JCF33j"
      }
    },
    {
      "cell_type": "markdown",
      "source": [
        "# Pandas\n",
        "A continuación, cada celda va a pedir algo distinto. Por favor, realizarlo con la menor cantidad de lineas posibles y con NumPy.\n"
      ],
      "metadata": {
        "id": "8ec8DQdbWQfC"
      }
    },
    {
      "cell_type": "markdown",
      "source": [
        "Importar `pandas` con el alias `pd` e imprimir la versión instalada."
      ],
      "metadata": {
        "id": "uF01w4AQcrtV"
      }
    },
    {
      "cell_type": "code",
      "source": [
        "import pandas as pd\n",
        "print(pd.__version__)"
      ],
      "metadata": {
        "id": "4WPUcwU_c5n2",
        "outputId": "579583b0-44f9-491e-de7b-f12fe39c4904",
        "colab": {
          "base_uri": "https://localhost:8080/"
        }
      },
      "execution_count": null,
      "outputs": [
        {
          "output_type": "stream",
          "name": "stdout",
          "text": [
            "2.2.2\n"
          ]
        }
      ]
    },
    {
      "cell_type": "markdown",
      "source": [
        "Crear la siguiente tabla como un dataframe de Pandas donde cada linea represente un diccionario.\n",
        "\n",
        "| _Index_ | **nombre**       | **edad** | **dni**  |\n",
        "|---------|------------------|----------|----------|\n",
        "| 9       | Brown, James     | 43       | 30123444 |\n",
        "| 3       | Hamkel, Louis V. | 29       | 44555666 |\n",
        "| 7       | Baptista, Carlos | 28       | 43120111 |"
      ],
      "metadata": {
        "id": "eC8fpbQ04GzX"
      }
    },
    {
      "cell_type": "code",
      "source": [
        "data = [\n",
        "    {'nombre': 'Brown, James', 'edad': 43, 'dni': 30123444},\n",
        "    {'nombre': 'Hamkel, Louis V.', 'edad': 29, 'dni': 44556666},\n",
        "    {'nombre': 'Baptista, Carlos', 'edad': 28, 'dni': 43120111}\n",
        "]\n",
        "\n",
        "df = pd.DataFrame(data, index=[9, 3, 7])\n",
        "print(df)"
      ],
      "metadata": {
        "id": "I4zJ7s_k4GkI",
        "outputId": "423ede2a-7e40-4fcf-ad98-54f801c4104a",
        "colab": {
          "base_uri": "https://localhost:8080/"
        }
      },
      "execution_count": null,
      "outputs": [
        {
          "output_type": "stream",
          "name": "stdout",
          "text": [
            "             nombre  edad       dni\n",
            "9      Brown, James    43  30123444\n",
            "3  Hamkel, Louis V.    29  44556666\n",
            "7  Baptista, Carlos    28  43120111\n"
          ]
        }
      ]
    },
    {
      "cell_type": "markdown",
      "source": [
        "Crear la siguiente tabla como un dataframe de Pandas donde todas las lineas esten dentro de un solo diccionario.\n",
        "\n",
        "| _Index_ | **nombre**       | **edad** | **dni**  |\n",
        "|---------|------------------|----------|----------|\n",
        "| 9       | Brown, James     | 43       | 30123444 |\n",
        "| 3       | Hamkel, Louis V. | 29       | 44555666 |\n",
        "| 7       | Baptista, Carlos | 28       | 43120111 |"
      ],
      "metadata": {
        "id": "zas-XX4r4SeP"
      }
    },
    {
      "cell_type": "code",
      "source": [
        "data = {\n",
        "    'nombre': ['Brown, James', 'Hamkel, Louis V.', 'Baptista, Carlos'],\n",
        "    'edad': [43, 29, 28],\n",
        "    'dni': [30123444, 44556666, 43120111]\n",
        "}\n",
        "\n",
        "df = pd.DataFrame(data, index=[9, 3, 7])\n",
        "print(df)"
      ],
      "metadata": {
        "id": "_DhtCWhr4ST9",
        "outputId": "151cded0-79ea-462c-e6c1-055c1fec7c77",
        "colab": {
          "base_uri": "https://localhost:8080/"
        }
      },
      "execution_count": null,
      "outputs": [
        {
          "output_type": "stream",
          "name": "stdout",
          "text": [
            "             nombre  edad       dni\n",
            "9      Brown, James    43  30123444\n",
            "3  Hamkel, Louis V.    29  44556666\n",
            "7  Baptista, Carlos    28  43120111\n"
          ]
        }
      ]
    },
    {
      "cell_type": "markdown",
      "source": [
        "Crear la siguiente tabla como un dataframe de Pandas donde se usen unicamente listas.\n",
        "\n",
        "| _Index_ | **nombre**       | **edad** | **dni**  |\n",
        "|---------|------------------|----------|----------|\n",
        "| 9       | Brown, James     | 43       | 30123444 |\n",
        "| 3       | Hamkel, Louis V. | 29       | 44555666 |\n",
        "| 7       | Baptista, Carlos | 28       | 43120111 |"
      ],
      "metadata": {
        "id": "ejbn5RSH4S_W"
      }
    },
    {
      "cell_type": "code",
      "source": [
        "nombres = ['Brown, James', 'Hamkel, Louis V.', 'Baptista, Carlos']\n",
        "edades = [43, 29, 28]\n",
        "dnis = [30123444, 44556666, 43120111]\n",
        "indices = [9, 3, 7]\n",
        "\n",
        "df = pd.DataFrame({\n",
        "    'nombre': nombres,\n",
        "    'edad': edades,\n",
        "    'dni': dnis\n",
        "}, index=indices)\n",
        "\n",
        "print(df)"
      ],
      "metadata": {
        "id": "OMPq8C1C4Su3",
        "outputId": "2efa25b6-8b8a-4be5-f493-c9564258b4ed",
        "colab": {
          "base_uri": "https://localhost:8080/"
        }
      },
      "execution_count": null,
      "outputs": [
        {
          "output_type": "stream",
          "name": "stdout",
          "text": [
            "             nombre  edad       dni\n",
            "9      Brown, James    43  30123444\n",
            "3  Hamkel, Louis V.    29  44556666\n",
            "7  Baptista, Carlos    28  43120111\n"
          ]
        }
      ]
    },
    {
      "cell_type": "markdown",
      "source": [
        "Crear la siguiente tabla como un dataframe de Pandas donde se usen unicamente `Series`.\n",
        "\n",
        "| _Index_ | **nombre**       | **edad** | **dni**  |\n",
        "|---------|------------------|----------|----------|\n",
        "| 9       | Brown, James     | 43       | 30123444 |\n",
        "| 3       | Hamkel, Louis V. | 29       | 44555666 |\n",
        "| 7       | Baptista, Carlos | 28       | 43120111 |"
      ],
      "metadata": {
        "id": "dVCeyowLEnJ1"
      }
    },
    {
      "cell_type": "code",
      "source": [
        "nombres = pd.Series(['Brown, James', 'Hamkel, Louis V.', 'Baptista, Carlos'], index=[9, 3, 7])\n",
        "edades = pd.Series([43, 29, 28], index=[9, 3, 7])\n",
        "dnis = pd.Series([30123444, 44556666, 43120111], index=[9, 3, 7])\n",
        "\n",
        "df = pd.DataFrame({\n",
        "    'nombre': nombres,\n",
        "    'edad': edades,\n",
        "    'dni': dnis\n",
        "})\n",
        "\n",
        "print(df)"
      ],
      "metadata": {
        "id": "lj0zQr7qEmzj",
        "outputId": "4b6b1136-e9a4-433f-8477-6e2bcd0230cc",
        "colab": {
          "base_uri": "https://localhost:8080/"
        }
      },
      "execution_count": null,
      "outputs": [
        {
          "output_type": "stream",
          "name": "stdout",
          "text": [
            "             nombre  edad       dni\n",
            "9      Brown, James    43  30123444\n",
            "3  Hamkel, Louis V.    29  44556666\n",
            "7  Baptista, Carlos    28  43120111\n"
          ]
        }
      ]
    },
    {
      "cell_type": "markdown",
      "source": [
        "Reutilice cualquiera de los dataframe hechos anteriormente pero agregue la columna `fecha` con el tipo de dato relacionado a fechas.\n",
        "\n",
        "| _Index_ | **nombre**       | **edad** | **dni**  | **fecha**  |\n",
        "|---------|------------------|----------|----------|------------|\n",
        "| 9       | Brown, James     | 43       | 30123444 | 12/08/1981 |\n",
        "| 3       | Hamkel, Louis V. | 29       | 44555666 | 10/04/1995 |\n",
        "| 7       | Baptista, Carlos | 28       | 43120111 | 28/05/1996 |"
      ],
      "metadata": {
        "id": "oP9dwhSLEnix"
      }
    },
    {
      "cell_type": "code",
      "source": [
        "import pandas as pd\n",
        "\n",
        "data = {\n",
        "    'nombre': ['Brown, James', 'Hamkel, Louis V.', 'Baptista, Carlos'],\n",
        "    'edad': [43, 29, 28],\n",
        "    'dni': [30123444, 44556666, 43120111]\n",
        "}\n",
        "df = pd.DataFrame(data, index=[9, 3, 7])\n",
        "\n",
        "fechas = ['12/08/1981', '10/04/1995', '28/05/1996']\n",
        "df['fecha'] = pd.to_datetime(fechas, dayfirst=True)\n",
        "\n",
        "print(df)"
      ],
      "metadata": {
        "id": "lt6ZjIgAFEpT",
        "outputId": "10947533-7490-4675-aacc-9079eccde2bc",
        "colab": {
          "base_uri": "https://localhost:8080/"
        }
      },
      "execution_count": null,
      "outputs": [
        {
          "output_type": "stream",
          "name": "stdout",
          "text": [
            "             nombre  edad       dni      fecha\n",
            "9      Brown, James    43  30123444 1981-08-12\n",
            "3  Hamkel, Louis V.    29  44556666 1995-04-10\n",
            "7  Baptista, Carlos    28  43120111 1996-05-28\n"
          ]
        }
      ]
    },
    {
      "cell_type": "markdown",
      "source": [
        "Ejecute la siguiente celda. Se va a descargar un archivo llamado `u.user`."
      ],
      "metadata": {
        "id": "X6Y5smKMEn6w"
      }
    },
    {
      "cell_type": "code",
      "source": [
        "!wget https://raw.githubusercontent.com/justmarkham/DAT8/master/data/u.user"
      ],
      "metadata": {
        "id": "3v7G1jWs7rDg",
        "outputId": "26a2b409-c4fb-413e-cb76-f54844c85943",
        "colab": {
          "base_uri": "https://localhost:8080/"
        }
      },
      "execution_count": null,
      "outputs": [
        {
          "output_type": "stream",
          "name": "stdout",
          "text": [
            "--2024-11-23 02:21:18--  https://raw.githubusercontent.com/justmarkham/DAT8/master/data/u.user\n",
            "Resolving raw.githubusercontent.com (raw.githubusercontent.com)... 185.199.108.133, 185.199.109.133, 185.199.110.133, ...\n",
            "Connecting to raw.githubusercontent.com (raw.githubusercontent.com)|185.199.108.133|:443... connected.\n",
            "HTTP request sent, awaiting response... 200 OK\n",
            "Length: 22667 (22K) [text/plain]\n",
            "Saving to: ‘u.user.1’\n",
            "\n",
            "u.user.1            100%[===================>]  22.14K  --.-KB/s    in 0.004s  \n",
            "\n",
            "2024-11-23 02:21:18 (5.98 MB/s) - ‘u.user.1’ saved [22667/22667]\n",
            "\n"
          ]
        }
      ]
    },
    {
      "cell_type": "markdown",
      "source": [
        "Lea el archivo con pandas y muestre las primeras 5 filas."
      ],
      "metadata": {
        "id": "-qRRF8T_72wD"
      }
    },
    {
      "cell_type": "code",
      "source": [
        "df = pd.read_csv('u.user', sep='|')\n",
        "print(df.head())"
      ],
      "metadata": {
        "id": "HlPu1a1sEohQ",
        "outputId": "0ecfdd79-ec9a-4331-b7b6-fdbaeebf8d4e",
        "colab": {
          "base_uri": "https://localhost:8080/"
        }
      },
      "execution_count": null,
      "outputs": [
        {
          "output_type": "stream",
          "name": "stdout",
          "text": [
            "   user_id  age gender  occupation zip_code\n",
            "0        1   24      M  technician    85711\n",
            "1        2   53      F       other    94043\n",
            "2        3   23      M      writer    32067\n",
            "3        4   24      M  technician    43537\n",
            "4        5   33      F       other    15213\n"
          ]
        }
      ]
    },
    {
      "cell_type": "markdown",
      "source": [
        "Utilice la columna `user_id` como indice y saque dicha columna del dataframe\n",
        "\n"
      ],
      "metadata": {
        "id": "LsqtwfYc8P6L"
      }
    },
    {
      "cell_type": "code",
      "source": [
        "df.set_index('user_id', inplace=True)\n",
        "\n",
        "print(df.head())"
      ],
      "metadata": {
        "id": "yQs0BtSF8PzU",
        "outputId": "851ba976-f9ca-4596-943a-4d7512fb4976",
        "colab": {
          "base_uri": "https://localhost:8080/"
        }
      },
      "execution_count": null,
      "outputs": [
        {
          "output_type": "stream",
          "name": "stdout",
          "text": [
            "         age gender  occupation zip_code\n",
            "user_id                                 \n",
            "1         24      M  technician    85711\n",
            "2         53      F       other    94043\n",
            "3         23      M      writer    32067\n",
            "4         24      M  technician    43537\n",
            "5         33      F       other    15213\n"
          ]
        }
      ]
    },
    {
      "cell_type": "markdown",
      "source": [
        "¿Cuantas categorias de trabajos hay?"
      ],
      "metadata": {
        "id": "_5Cld-VT8PsG"
      }
    },
    {
      "cell_type": "code",
      "source": [
        "num_occupations = df['occupation'].nunique()\n",
        "\n",
        "print(f'Número de categorías de trabajos: {num_occupations}')"
      ],
      "metadata": {
        "id": "TVeQ-jgZ8PlX",
        "outputId": "92142158-33c2-4587-ca7c-87a4d52c65e5",
        "colab": {
          "base_uri": "https://localhost:8080/"
        }
      },
      "execution_count": null,
      "outputs": [
        {
          "output_type": "stream",
          "name": "stdout",
          "text": [
            "Número de categorías de trabajos: 21\n"
          ]
        }
      ]
    },
    {
      "cell_type": "markdown",
      "source": [
        " Reporte el porcentaje de personas que tiene cada ocupación."
      ],
      "metadata": {
        "id": "suETYqm28Pba"
      }
    },
    {
      "cell_type": "code",
      "source": [
        "occupation_percentage = df['occupation'].value_counts(normalize=True) * 100\n",
        "\n",
        "print(occupation_percentage)"
      ],
      "metadata": {
        "id": "mJFiaURH8PS4",
        "outputId": "f625cd90-f954-4484-8589-9f615ef3bc36",
        "colab": {
          "base_uri": "https://localhost:8080/"
        }
      },
      "execution_count": null,
      "outputs": [
        {
          "output_type": "stream",
          "name": "stdout",
          "text": [
            "occupation\n",
            "student          20.784730\n",
            "other            11.134677\n",
            "educator         10.074231\n",
            "administrator     8.377519\n",
            "engineer          7.104984\n",
            "programmer        6.998940\n",
            "librarian         5.408271\n",
            "writer            4.772004\n",
            "executive         3.393425\n",
            "scientist         3.287381\n",
            "artist            2.969247\n",
            "technician        2.863203\n",
            "marketing         2.757158\n",
            "entertainment     1.908802\n",
            "healthcare        1.696713\n",
            "retired           1.484624\n",
            "lawyer            1.272534\n",
            "salesman          1.272534\n",
            "none              0.954401\n",
            "homemaker         0.742312\n",
            "doctor            0.742312\n",
            "Name: proportion, dtype: float64\n"
          ]
        }
      ]
    },
    {
      "cell_type": "markdown",
      "source": [
        "Reporte el promedio de edad de los estudiantes usando indexeo booleano."
      ],
      "metadata": {
        "id": "OqJ3ufrnEouE"
      }
    },
    {
      "cell_type": "code",
      "source": [
        "average_age_students = df[df['occupation'] == 'student']['age'].mean()\n",
        "\n",
        "print(f'Promedio de edad de los estudiantes: {average_age_students}')"
      ],
      "metadata": {
        "id": "h9LdQIKZF5Y3",
        "outputId": "a0603585-58f1-466f-acef-6fa0dc25923f",
        "colab": {
          "base_uri": "https://localhost:8080/"
        }
      },
      "execution_count": null,
      "outputs": [
        {
          "output_type": "stream",
          "name": "stdout",
          "text": [
            "Promedio de edad de los estudiantes: 22.081632653061224\n"
          ]
        }
      ]
    },
    {
      "cell_type": "markdown",
      "source": [
        "Mostrar, con una sola linea y sin importar `matplotlib`, un histograma de las edades de las personas que son administradores."
      ],
      "metadata": {
        "id": "ECU9-LayF53z"
      }
    },
    {
      "cell_type": "code",
      "source": [
        "df[df['occupation'] == 'administrator']['age'].plot.hist()"
      ],
      "metadata": {
        "id": "qOimVpu0F4el",
        "outputId": "48aa0c3c-5d26-437f-ba9e-1cdc1cbb02fd",
        "colab": {
          "base_uri": "https://localhost:8080/",
          "height": 447
        }
      },
      "execution_count": null,
      "outputs": [
        {
          "output_type": "execute_result",
          "data": {
            "text/plain": [
              "<Axes: ylabel='Frequency'>"
            ]
          },
          "metadata": {},
          "execution_count": 50
        },
        {
          "output_type": "display_data",
          "data": {
            "text/plain": [
              "<Figure size 640x480 with 1 Axes>"
            ],
            "image/png": "[encoded data removed]"
          },
          "metadata": {}
        }
      ]
    },
    {
      "cell_type": "markdown",
      "source": [
        "Reemplace, sin usar `for`, en la columna `gender` `F` por `female` y `M` por `male`."
      ],
      "metadata": {
        "id": "mFzSH9D1QHM4"
      }
    },
    {
      "cell_type": "code",
      "source": [
        "df['gender'] = df['gender'].replace({'F': 'female', 'M': 'male'})\n",
        "\n",
        "print(df['gender'])"
      ],
      "metadata": {
        "id": "SZg2_4AJQHhr",
        "outputId": "0c73a521-23e7-410f-9f00-c06215c2da98",
        "colab": {
          "base_uri": "https://localhost:8080/"
        }
      },
      "execution_count": null,
      "outputs": [
        {
          "output_type": "stream",
          "name": "stdout",
          "text": [
            "user_id\n",
            "1        male\n",
            "2      female\n",
            "3        male\n",
            "4        male\n",
            "5      female\n",
            "        ...  \n",
            "939    female\n",
            "940      male\n",
            "941      male\n",
            "942    female\n",
            "943      male\n",
            "Name: gender, Length: 943, dtype: object\n"
          ]
        }
      ]
    },
    {
      "cell_type": "markdown",
      "source": [
        "# Yahoo! Finance"
      ],
      "metadata": {
        "id": "x6s9aanXAp4G"
      }
    },
    {
      "cell_type": "markdown",
      "source": [
        "Vamos a analizar acciones. La siguiente linea accede a Yahoo Finance y devuelve un DataFrame con los valores de la acción cada dia desde el 1980."
      ],
      "metadata": {
        "id": "qqBxTaafArYH"
      }
    },
    {
      "cell_type": "code",
      "source": [
        "import yfinance as yf\n",
        "dataframe = yf.download('AAPL', start=\"1980-01-01\", end=\"2030-01-01\")"
      ],
      "metadata": {
        "id": "HWJ0fZbfApy6",
        "colab": {
          "base_uri": "https://localhost:8080/"
        },
        "outputId": "f58fa4d6-5223-4829-fc0c-dfd18c1e4e74"
      },
      "execution_count": null,
      "outputs": [
        {
          "output_type": "stream",
          "name": "stderr",
          "text": [
            "\r[*********************100%***********************]  1 of 1 completed\n"
          ]
        }
      ]
    },
    {
      "cell_type": "markdown",
      "source": [
        "¿Cual es el registro mas viejo? Imprimirlo."
      ],
      "metadata": {
        "id": "ikpnKqnPApuG"
      }
    },
    {
      "cell_type": "code",
      "source": [
        "oldest_record = dataframe.iloc[0]\n",
        "\n",
        "print(\"El registro más viejo:\")\n",
        "print(oldest_record[3:4])"
      ],
      "metadata": {
        "id": "e56tZ607Appx",
        "outputId": "3253fbf4-0d3b-49ac-87ca-df43271615b5",
        "colab": {
          "base_uri": "https://localhost:8080/"
        }
      },
      "execution_count": null,
      "outputs": [
        {
          "output_type": "stream",
          "name": "stdout",
          "text": [
            "El registro más viejo:\n",
            "Price  Ticker\n",
            "Low    AAPL      0.128348\n",
            "Name: 1980-12-12 00:00:00+00:00, dtype: float64\n"
          ]
        }
      ]
    },
    {
      "cell_type": "markdown",
      "source": [
        "Cree la columna `Average` tal que\n",
        "\n",
        "$$Average =  \\frac{High-Low}{2}$$\n",
        "\n",
        "y muestre con un histograma dicha columna."
      ],
      "metadata": {
        "id": "EHHhUvUtApk0"
      }
    },
    {
      "cell_type": "code",
      "source": [
        "dataframe['Average'] = (dataframe['High'] + dataframe['Low']) / 2\n",
        "\n",
        "dataframe['Average'].plot.hist(title='Histograma de Average', bins=50)"
      ],
      "metadata": {
        "id": "-b9g66axApgL",
        "outputId": "94b6ebb0-af85-4829-d404-c80fece5d017",
        "colab": {
          "base_uri": "https://localhost:8080/",
          "height": 469
        }
      },
      "execution_count": null,
      "outputs": [
        {
          "output_type": "execute_result",
          "data": {
            "text/plain": [
              "<Axes: title={'center': 'Histograma de Average'}, ylabel='Frequency'>"
            ]
          },
          "metadata": {},
          "execution_count": 55
        },
        {
          "output_type": "display_data",
          "data": {
            "text/plain": [
              "<Figure size 640x480 with 1 Axes>"
            ],
            "image/png": "[encoded data removed]"
          },
          "metadata": {}
        }
      ]
    },
    {
      "cell_type": "markdown",
      "source": [
        "Con `matplotlib`, muestre como `Average` fue evolucionando *al final de cada año*."
      ],
      "metadata": {
        "id": "yeZWGXexApbb"
      }
    },
    {
      "cell_type": "code",
      "source": [
        "import matplotlib.pyplot as plt\n",
        "\n",
        "average_yearly = dataframe['Average'].resample('A').last()\n",
        "\n",
        "average_yearly.plot(title='Evolución de Average al final de cada año', xlabel='Año', ylabel='Average')\n",
        "plt.show()"
      ],
      "metadata": {
        "id": "oeSb_UegApVZ",
        "outputId": "72e43335-0dce-469e-821a-81b2a1906046",
        "colab": {
          "base_uri": "https://localhost:8080/",
          "height": 507
        }
      },
      "execution_count": null,
      "outputs": [
        {
          "output_type": "stream",
          "name": "stderr",
          "text": [
            "<ipython-input-56-93382ed4a3b5>:3: FutureWarning: 'A' is deprecated and will be removed in a future version, please use 'YE' instead.\n",
            "  average_yearly = dataframe['Average'].resample('A').last()\n"
          ]
        },
        {
          "output_type": "display_data",
          "data": {
            "text/plain": [
              "<Figure size 640x480 with 1 Axes>"
            ],
            "image/png": "[encoded data removed]"
          },
          "metadata": {}
        }
      ]
    },
    {
      "cell_type": "markdown",
      "source": [
        "Muestre con un gráfico de barras, como el volumen fue cambiando *año a año*."
      ],
      "metadata": {
        "id": "K1UXxoawApPD"
      }
    },
    {
      "cell_type": "code",
      "source": [
        "volume_yearly = dataframe['Volume'].resample('A').sum()\n",
        "\n",
        "volume_yearly.plot(kind='bar', title='Volumen anual de AAPL', xlabel='Año', ylabel='Volumen', figsize=(10, 6))\n",
        "plt.tight_layout()\n",
        "plt.show()"
      ],
      "metadata": {
        "id": "4OyausU5ApGJ",
        "outputId": "1bed8ad2-f473-40f2-e5c5-60e32954eeac",
        "colab": {
          "base_uri": "https://localhost:8080/",
          "height": 642
        }
      },
      "execution_count": null,
      "outputs": [
        {
          "output_type": "stream",
          "name": "stderr",
          "text": [
            "<ipython-input-57-bbf52d82f205>:1: FutureWarning: 'A' is deprecated and will be removed in a future version, please use 'YE' instead.\n",
            "  volume_yearly = dataframe['Volume'].resample('A').sum()\n"
          ]
        },
        {
          "output_type": "display_data",
          "data": {
            "text/plain": [
              "<Figure size 1000x600 with 1 Axes>"
            ],
            "image/png": "[encoded data removed]"
          },
          "metadata": {}
        }
      ]
    },
    {
      "cell_type": "markdown",
      "source": [
        "# Cancelaciones y Delays de vuelos del 2015"
      ],
      "metadata": {
        "id": "uf4NRwyMCKbg"
      }
    },
    {
      "cell_type": "markdown",
      "source": [
        "Creese una cuenta en Kaggle e importe los archivos del dataset del siguiente link: https://www.kaggle.com/datasets/usdot/flight-delays. Cree los dataframes `airlines`, `airports`, y `flights` apartir de esos archivos."
      ],
      "metadata": {
        "id": "RoYldCmDCKWJ"
      }
    },
    {
      "cell_type": "code",
      "source": [],
      "metadata": {
        "id": "pRwfZBNKEFwo",
        "outputId": "f5db8c58-aa42-4731-b4ae-0fb3c62533e9",
        "colab": {
          "base_uri": "https://localhost:8080/"
        }
      },
      "execution_count": 7,
      "outputs": [
        {
          "output_type": "stream",
          "name": "stdout",
          "text": [
            "Downloading from https://www.kaggle.com/api/v1/datasets/download/usdot/flight-delays?dataset_version_number=1...\n"
          ]
        },
        {
          "output_type": "stream",
          "name": "stderr",
          "text": [
            "100%|██████████| 191M/191M [00:02<00:00, 77.5MB/s]"
          ]
        },
        {
          "output_type": "stream",
          "name": "stdout",
          "text": [
            "Extracting files...\n"
          ]
        },
        {
          "output_type": "stream",
          "name": "stderr",
          "text": [
            "\n"
          ]
        },
        {
          "output_type": "stream",
          "name": "stdout",
          "text": [
            "Path to dataset files: /root/.cache/kagglehub/datasets/usdot/flight-delays/versions/1\n"
          ]
        }
      ]
    },
    {
      "cell_type": "markdown",
      "source": [
        "Combine (*join*) las tablas `airlines`, `airports`, y `flights` en una sola tabla."
      ],
      "metadata": {
        "id": "PjDZHuvKCKNp"
      }
    },
    {
      "cell_type": "code",
      "source": [
        "airlines = pd.read_csv('airlines.csv')\n",
        "airports = pd.read_csv('airports.csv')\n",
        "\n",
        "\n",
        "merged_df = pd.merge(flights, airlines, left_on='AIRLINE', right_on='IATA_CODE', how='left')\n",
        "\n",
        "merged_df = pd.merge(merged_df, airports, left_on='ORIGIN_AIRPORT', right_on='IATA_CODE', how='left', suffixes=('', '_origin'))\n",
        "\n",
        "merged_df = pd.merge(merged_df, airports, left_on='DESTINATION_AIRPORT', right_on='IATA_CODE', how='left', suffixes=('', '_dest'))\n",
        "\n",
        "print(merged_df.head())\n"
      ],
      "metadata": {
        "id": "fSpwaXWzCKJ9",
        "colab": {
          "base_uri": "https://localhost:8080/",
          "height": 356
        },
        "outputId": "0dda19cb-059c-46cc-a1dc-b74aa98d6aa8"
      },
      "execution_count": 10,
      "outputs": [
        {
          "output_type": "error",
          "ename": "FileNotFoundError",
          "evalue": "[Errno 2] No such file or directory: 'airlines.csv'",
          "traceback": [
            "\u001b[0;31m---------------------------------------------------------------------------\u001b[0m",
            "\u001b[0;31mFileNotFoundError\u001b[0m                         Traceback (most recent call last)",
            "\u001b[0;32m<ipython-input-10-36587ef21360>\u001b[0m in \u001b[0;36m<cell line: 1>\u001b[0;34m()\u001b[0m\n\u001b[0;32m----> 1\u001b[0;31m \u001b[0mairlines\u001b[0m \u001b[0;34m=\u001b[0m \u001b[0mpd\u001b[0m\u001b[0;34m.\u001b[0m\u001b[0mread_csv\u001b[0m\u001b[0;34m(\u001b[0m\u001b[0;34m'airlines.csv'\u001b[0m\u001b[0;34m)\u001b[0m\u001b[0;34m\u001b[0m\u001b[0;34m\u001b[0m\u001b[0m\n\u001b[0m\u001b[1;32m      2\u001b[0m \u001b[0mairports\u001b[0m \u001b[0;34m=\u001b[0m \u001b[0mpd\u001b[0m\u001b[0;34m.\u001b[0m\u001b[0mread_csv\u001b[0m\u001b[0;34m(\u001b[0m\u001b[0;34m'airports.csv'\u001b[0m\u001b[0;34m)\u001b[0m\u001b[0;34m\u001b[0m\u001b[0;34m\u001b[0m\u001b[0m\n\u001b[1;32m      3\u001b[0m \u001b[0;34m\u001b[0m\u001b[0m\n\u001b[1;32m      4\u001b[0m \u001b[0;34m\u001b[0m\u001b[0m\n\u001b[1;32m      5\u001b[0m \u001b[0mmerged_df\u001b[0m \u001b[0;34m=\u001b[0m \u001b[0mpd\u001b[0m\u001b[0;34m.\u001b[0m\u001b[0mmerge\u001b[0m\u001b[0;34m(\u001b[0m\u001b[0mflights\u001b[0m\u001b[0;34m,\u001b[0m \u001b[0mairlines\u001b[0m\u001b[0;34m,\u001b[0m \u001b[0mleft_on\u001b[0m\u001b[0;34m=\u001b[0m\u001b[0;34m'AIRLINE'\u001b[0m\u001b[0;34m,\u001b[0m \u001b[0mright_on\u001b[0m\u001b[0;34m=\u001b[0m\u001b[0;34m'IATA_CODE'\u001b[0m\u001b[0;34m,\u001b[0m \u001b[0mhow\u001b[0m\u001b[0;34m=\u001b[0m\u001b[0;34m'left'\u001b[0m\u001b[0;34m)\u001b[0m\u001b[0;34m\u001b[0m\u001b[0;34m\u001b[0m\u001b[0m\n",
            "\u001b[0;32m/usr/local/lib/python3.10/dist-packages/pandas/io/parsers/readers.py\u001b[0m in \u001b[0;36mread_csv\u001b[0;34m(filepath_or_buffer, sep, delimiter, header, names, index_col, usecols, dtype, engine, converters, true_values, false_values, skipinitialspace, skiprows, skipfooter, nrows, na_values, keep_default_na, na_filter, verbose, skip_blank_lines, parse_dates, infer_datetime_format, keep_date_col, date_parser, date_format, dayfirst, cache_dates, iterator, chunksize, compression, thousands, decimal, lineterminator, quotechar, quoting, doublequote, escapechar, comment, encoding, encoding_errors, dialect, on_bad_lines, delim_whitespace, low_memory, memory_map, float_precision, storage_options, dtype_backend)\u001b[0m\n\u001b[1;32m   1024\u001b[0m     \u001b[0mkwds\u001b[0m\u001b[0;34m.\u001b[0m\u001b[0mupdate\u001b[0m\u001b[0;34m(\u001b[0m\u001b[0mkwds_defaults\u001b[0m\u001b[0;34m)\u001b[0m\u001b[0;34m\u001b[0m\u001b[0;34m\u001b[0m\u001b[0m\n\u001b[1;32m   1025\u001b[0m \u001b[0;34m\u001b[0m\u001b[0m\n\u001b[0;32m-> 1026\u001b[0;31m     \u001b[0;32mreturn\u001b[0m \u001b[0m_read\u001b[0m\u001b[0;34m(\u001b[0m\u001b[0mfilepath_or_buffer\u001b[0m\u001b[0;34m,\u001b[0m \u001b[0mkwds\u001b[0m\u001b[0;34m)\u001b[0m\u001b[0;34m\u001b[0m\u001b[0;34m\u001b[0m\u001b[0m\n\u001b[0m\u001b[1;32m   1027\u001b[0m \u001b[0;34m\u001b[0m\u001b[0m\n\u001b[1;32m   1028\u001b[0m \u001b[0;34m\u001b[0m\u001b[0m\n",
            "\u001b[0;32m/usr/local/lib/python3.10/dist-packages/pandas/io/parsers/readers.py\u001b[0m in \u001b[0;36m_read\u001b[0;34m(filepath_or_buffer, kwds)\u001b[0m\n\u001b[1;32m    618\u001b[0m \u001b[0;34m\u001b[0m\u001b[0m\n\u001b[1;32m    619\u001b[0m     \u001b[0;31m# Create the parser.\u001b[0m\u001b[0;34m\u001b[0m\u001b[0;34m\u001b[0m\u001b[0m\n\u001b[0;32m--> 620\u001b[0;31m     \u001b[0mparser\u001b[0m \u001b[0;34m=\u001b[0m \u001b[0mTextFileReader\u001b[0m\u001b[0;34m(\u001b[0m\u001b[0mfilepath_or_buffer\u001b[0m\u001b[0;34m,\u001b[0m \u001b[0;34m**\u001b[0m\u001b[0mkwds\u001b[0m\u001b[0;34m)\u001b[0m\u001b[0;34m\u001b[0m\u001b[0;34m\u001b[0m\u001b[0m\n\u001b[0m\u001b[1;32m    621\u001b[0m \u001b[0;34m\u001b[0m\u001b[0m\n\u001b[1;32m    622\u001b[0m     \u001b[0;32mif\u001b[0m \u001b[0mchunksize\u001b[0m \u001b[0;32mor\u001b[0m \u001b[0miterator\u001b[0m\u001b[0;34m:\u001b[0m\u001b[0;34m\u001b[0m\u001b[0;34m\u001b[0m\u001b[0m\n",
            "\u001b[0;32m/usr/local/lib/python3.10/dist-packages/pandas/io/parsers/readers.py\u001b[0m in \u001b[0;36m__init__\u001b[0;34m(self, f, engine, **kwds)\u001b[0m\n\u001b[1;32m   1618\u001b[0m \u001b[0;34m\u001b[0m\u001b[0m\n\u001b[1;32m   1619\u001b[0m         \u001b[0mself\u001b[0m\u001b[0;34m.\u001b[0m\u001b[0mhandles\u001b[0m\u001b[0;34m:\u001b[0m \u001b[0mIOHandles\u001b[0m \u001b[0;34m|\u001b[0m \u001b[0;32mNone\u001b[0m \u001b[0;34m=\u001b[0m \u001b[0;32mNone\u001b[0m\u001b[0;34m\u001b[0m\u001b[0;34m\u001b[0m\u001b[0m\n\u001b[0;32m-> 1620\u001b[0;31m         \u001b[0mself\u001b[0m\u001b[0;34m.\u001b[0m\u001b[0m_engine\u001b[0m \u001b[0;34m=\u001b[0m \u001b[0mself\u001b[0m\u001b[0;34m.\u001b[0m\u001b[0m_make_engine\u001b[0m\u001b[0;34m(\u001b[0m\u001b[0mf\u001b[0m\u001b[0;34m,\u001b[0m \u001b[0mself\u001b[0m\u001b[0;34m.\u001b[0m\u001b[0mengine\u001b[0m\u001b[0;34m)\u001b[0m\u001b[0;34m\u001b[0m\u001b[0;34m\u001b[0m\u001b[0m\n\u001b[0m\u001b[1;32m   1621\u001b[0m \u001b[0;34m\u001b[0m\u001b[0m\n\u001b[1;32m   1622\u001b[0m     \u001b[0;32mdef\u001b[0m \u001b[0mclose\u001b[0m\u001b[0;34m(\u001b[0m\u001b[0mself\u001b[0m\u001b[0;34m)\u001b[0m \u001b[0;34m->\u001b[0m \u001b[0;32mNone\u001b[0m\u001b[0;34m:\u001b[0m\u001b[0;34m\u001b[0m\u001b[0;34m\u001b[0m\u001b[0m\n",
            "\u001b[0;32m/usr/local/lib/python3.10/dist-packages/pandas/io/parsers/readers.py\u001b[0m in \u001b[0;36m_make_engine\u001b[0;34m(self, f, engine)\u001b[0m\n\u001b[1;32m   1878\u001b[0m                 \u001b[0;32mif\u001b[0m \u001b[0;34m\"b\"\u001b[0m \u001b[0;32mnot\u001b[0m \u001b[0;32min\u001b[0m \u001b[0mmode\u001b[0m\u001b[0;34m:\u001b[0m\u001b[0;34m\u001b[0m\u001b[0;34m\u001b[0m\u001b[0m\n\u001b[1;32m   1879\u001b[0m                     \u001b[0mmode\u001b[0m \u001b[0;34m+=\u001b[0m \u001b[0;34m\"b\"\u001b[0m\u001b[0;34m\u001b[0m\u001b[0;34m\u001b[0m\u001b[0m\n\u001b[0;32m-> 1880\u001b[0;31m             self.handles = get_handle(\n\u001b[0m\u001b[1;32m   1881\u001b[0m                 \u001b[0mf\u001b[0m\u001b[0;34m,\u001b[0m\u001b[0;34m\u001b[0m\u001b[0;34m\u001b[0m\u001b[0m\n\u001b[1;32m   1882\u001b[0m                 \u001b[0mmode\u001b[0m\u001b[0;34m,\u001b[0m\u001b[0;34m\u001b[0m\u001b[0;34m\u001b[0m\u001b[0m\n",
            "\u001b[0;32m/usr/local/lib/python3.10/dist-packages/pandas/io/common.py\u001b[0m in \u001b[0;36mget_handle\u001b[0;34m(path_or_buf, mode, encoding, compression, memory_map, is_text, errors, storage_options)\u001b[0m\n\u001b[1;32m    871\u001b[0m         \u001b[0;32mif\u001b[0m \u001b[0mioargs\u001b[0m\u001b[0;34m.\u001b[0m\u001b[0mencoding\u001b[0m \u001b[0;32mand\u001b[0m \u001b[0;34m\"b\"\u001b[0m \u001b[0;32mnot\u001b[0m \u001b[0;32min\u001b[0m \u001b[0mioargs\u001b[0m\u001b[0;34m.\u001b[0m\u001b[0mmode\u001b[0m\u001b[0;34m:\u001b[0m\u001b[0;34m\u001b[0m\u001b[0;34m\u001b[0m\u001b[0m\n\u001b[1;32m    872\u001b[0m             \u001b[0;31m# Encoding\u001b[0m\u001b[0;34m\u001b[0m\u001b[0;34m\u001b[0m\u001b[0m\n\u001b[0;32m--> 873\u001b[0;31m             handle = open(\n\u001b[0m\u001b[1;32m    874\u001b[0m                 \u001b[0mhandle\u001b[0m\u001b[0;34m,\u001b[0m\u001b[0;34m\u001b[0m\u001b[0;34m\u001b[0m\u001b[0m\n\u001b[1;32m    875\u001b[0m                 \u001b[0mioargs\u001b[0m\u001b[0;34m.\u001b[0m\u001b[0mmode\u001b[0m\u001b[0;34m,\u001b[0m\u001b[0;34m\u001b[0m\u001b[0;34m\u001b[0m\u001b[0m\n",
            "\u001b[0;31mFileNotFoundError\u001b[0m: [Errno 2] No such file or directory: 'airlines.csv'"
          ]
        }
      ]
    },
    {
      "cell_type": "markdown",
      "source": [
        "¿Cuantos vuelos fueron al aeropuerto JFK?"
      ],
      "metadata": {
        "id": "qnx03j1hFm54"
      }
    },
    {
      "cell_type": "code",
      "source": [
        "#Escribir el codigo para responder la pregunta en esta celda"
      ],
      "metadata": {
        "id": "lmluYuizFnKD"
      },
      "execution_count": null,
      "outputs": []
    },
    {
      "cell_type": "markdown",
      "source": [
        "¿Cuantos vuelos hizo la aerolinea AA?"
      ],
      "metadata": {
        "id": "dhyTy9BhFnXx"
      }
    },
    {
      "cell_type": "code",
      "source": [
        "#Escribir el codigo para responder la pregunta en esta celda"
      ],
      "metadata": {
        "id": "IupGmRDpFnsu"
      },
      "execution_count": null,
      "outputs": []
    },
    {
      "cell_type": "markdown",
      "source": [
        "¿Que aerolineas (las primeras 5) tuvo la menor cantidad de vuelos con atrasos? Imprimirlas."
      ],
      "metadata": {
        "id": "kMP-JH_VEsMb"
      }
    },
    {
      "cell_type": "code",
      "source": [
        "#Escribir el codigo para responder la pregunta en esta celda"
      ],
      "metadata": {
        "id": "4-h0JTPuEsZk"
      },
      "execution_count": null,
      "outputs": []
    },
    {
      "cell_type": "markdown",
      "source": [
        "¿Que aerolineas (las primeras 5) tuvo la mayor cantidad de vuelos con atrasos? Imprimirlas."
      ],
      "metadata": {
        "id": "AD51bj4AEs3L"
      }
    },
    {
      "cell_type": "code",
      "source": [
        "#Escribir el codigo para responder la pregunta en esta celda"
      ],
      "metadata": {
        "id": "MiB6jHQ2Erqx"
      },
      "execution_count": null,
      "outputs": []
    },
    {
      "cell_type": "markdown",
      "source": [
        "Haga un resumen de las razones por la cual los vuelos se atrasan."
      ],
      "metadata": {
        "id": "DWQedGQvFYGP"
      }
    },
    {
      "cell_type": "code",
      "source": [
        "#Escribir el codigo para responder la pregunta en esta celda"
      ],
      "metadata": {
        "id": "AtPN0dv5FX3d"
      },
      "execution_count": null,
      "outputs": []
    },
    {
      "cell_type": "markdown",
      "source": [
        "Compruebe si hay columnas con celdas vacias."
      ],
      "metadata": {
        "id": "rMpR4FWdCKF2"
      }
    },
    {
      "cell_type": "code",
      "source": [
        "#Escribir el codigo para responder la pregunta en esta celda"
      ],
      "metadata": {
        "id": "S_SzBL9ZCKCV"
      },
      "execution_count": null,
      "outputs": []
    },
    {
      "cell_type": "markdown",
      "source": [
        "Haga una imputación de datos COMPLETA del dataframe. Pueden escojer cualquier estrategia y no necesariamente todas las columnas deben seguir la misma estrategia."
      ],
      "metadata": {
        "id": "1IH7wd3PCJfQ"
      }
    },
    {
      "cell_type": "code",
      "source": [
        "#Escribir el codigo para responder la pregunta en esta celda"
      ],
      "metadata": {
        "id": "PHmO-jb8CJaF"
      },
      "execution_count": null,
      "outputs": []
    }
  ]
}